{
 "cells": [
  {
   "cell_type": "code",
   "execution_count": 1,
   "id": "a41b53f5",
   "metadata": {},
   "outputs": [],
   "source": [
    "import pandas as pd\n",
    "import matplotlib.pyplot as plt\n",
    "import yaml\n",
    "import seaborn\n",
    "\n",
    "from sqlalchemy import create_engine\n",
    "# read database connection\n",
    "conn = ''\n",
    "    \n",
    "try:\n",
    "    env = yaml.safe_load(open('../../env'))\n",
    "    x = env.split(\" \")\n",
    "    for i in x:\n",
    "        j = i.split(\"=\")\n",
    "        if j[0] == 'DATABASE_CONNECTION':\n",
    "            conn =  j[1]\n",
    "except:\n",
    "    print(\"Error opening env file:\", sys.exc_info()[0])\n",
    "\n",
    "engine = create_engine(conn)\n",
    "\n",
    "sql = \"SELECT * from cell_metadata\"\n",
    "df_cell_metadata = pd.read_sql_query(sql, con=engine)\n",
    "\n",
    "sql = \"SELECT * from cycle_metadata\"\n",
    "df_test_metadata = pd.read_sql_query(sql, con=engine)\n",
    "\n",
    "sql = \"select * from cycle_stats\"\n",
    "df_cycle_data = pd.read_sql_query(sql, con=engine)\n",
    "\n",
    "sql = \"select * from cycle_timeseries\"\n",
    "df_timeseries_data = pd.read_sql_query(sql, con=engine)"
   ]
  },
  {
   "cell_type": "code",
   "execution_count": 2,
   "id": "6225dbd0",
   "metadata": {},
   "outputs": [
    {
     "data": {
      "text/plain": [
       "Index(['cathode', 'anode', 'source', 'ah', 'form_factor', 'cell_id'], dtype='object')"
      ]
     },
     "execution_count": 2,
     "metadata": {},
     "output_type": "execute_result"
    }
   ],
   "source": [
    "df_cell_metadata.columns"
   ]
  },
  {
   "cell_type": "code",
   "execution_count": 3,
   "id": "bc9f2d60",
   "metadata": {},
   "outputs": [
    {
     "data": {
      "text/plain": [
       "Index(['temp', 'soc_max', 'soc_min', 'v_max', 'v_min', 'crate_c', 'crate_d',\n",
       "       'cell_id'],\n",
       "      dtype='object')"
      ]
     },
     "execution_count": 3,
     "metadata": {},
     "output_type": "execute_result"
    }
   ],
   "source": [
    "df_test_metadata.columns"
   ]
  },
  {
   "cell_type": "code",
   "execution_count": 4,
   "id": "73eaeaab",
   "metadata": {},
   "outputs": [
    {
     "data": {
      "text/plain": [
       "Index(['v_max', 'v_min', 'ah_c', 'ah_d', 'e_c', 'e_d', 'i_max', 'i_min',\n",
       "       'v_c_mean', 'v_d_mean', 'e_eff', 'ah_eff', 'cycle_index', 'test_time',\n",
       "       'cell_id'],\n",
       "      dtype='object')"
      ]
     },
     "execution_count": 4,
     "metadata": {},
     "output_type": "execute_result"
    }
   ],
   "source": [
    "df_cycle_data.columns"
   ]
  },
  {
   "cell_type": "code",
   "execution_count": 5,
   "id": "ca823be4",
   "metadata": {},
   "outputs": [
    {
     "data": {
      "text/plain": [
       "Index(['i', 'v', 'ah_c', 'ah_d', 'e_c', 'e_d', 'temp_1', 'temp_2',\n",
       "       'cycle_time', 'date_time', 'cycle_index', 'test_time', 'cell_id'],\n",
       "      dtype='object')"
      ]
     },
     "execution_count": 5,
     "metadata": {},
     "output_type": "execute_result"
    }
   ],
   "source": [
    "df_timeseries_data.columns"
   ]
  },
  {
   "cell_type": "code",
   "execution_count": 6,
   "id": "0dbebe2a",
   "metadata": {},
   "outputs": [
    {
     "data": {
      "text/plain": [
       "<seaborn.axisgrid.FacetGrid at 0x7f261c53d4c0>"
      ]
     },
     "execution_count": 6,
     "metadata": {},
     "output_type": "execute_result"
    },
    {
     "data": {
      "text/plain": [
       "<Figure size 432x288 with 0 Axes>"
      ]
     },
     "metadata": {},
     "output_type": "display_data"
    },
    {
     "data": {
      "image/png": "[encoded data removed]",
      "text/plain": [
       "<Figure size 779.125x216 with 1 Axes>"
      ]
     },
     "metadata": {
      "needs_background": "light"
     },
     "output_type": "display_data"
    }
   ],
   "source": [
    "plt.figure()\n",
    "_cells = df_cell_metadata.cell_id.unique()\n",
    "\n",
    "fg = seaborn.FacetGrid(data=df_cycle_data, hue='cell_id', hue_order=_cells, aspect=3)\n",
    "fg.map(plt.scatter, 'cycle_index', 'ah_d').add_legend()"
   ]
  },
  {
   "cell_type": "code",
   "execution_count": 7,
   "id": "dbc48da9",
   "metadata": {},
   "outputs": [
    {
     "data": {
      "text/plain": [
       "<seaborn.axisgrid.FacetGrid at 0x7f25e0b44a90>"
      ]
     },
     "execution_count": 7,
     "metadata": {},
     "output_type": "execute_result"
    },
    {
     "data": {
      "text/plain": [
       "<Figure size 432x288 with 0 Axes>"
      ]
     },
     "metadata": {},
     "output_type": "display_data"
    },
    {
     "data": {
      "image/png": "[encoded data removed]",
      "text/plain": [
       "<Figure size 779.125x216 with 1 Axes>"
      ]
     },
     "metadata": {
      "needs_background": "light"
     },
     "output_type": "display_data"
    }
   ],
   "source": [
    "plt.figure()\n",
    "_cells = df_cell_metadata.cell_id.unique()\n",
    "\n",
    "df_timeseries_data_1=df_timeseries_data[df_timeseries_data['cycle_index']==1]\n",
    "\n",
    "\n",
    "fg = seaborn.FacetGrid(data=df_timeseries_data_1, hue='cell_id', hue_order=_cells, aspect=3)\n",
    "fg.map(plt.scatter, 'test_time', 'v').add_legend()"
   ]
  }
 ],
 "metadata": {
  "kernelspec": {
   "display_name": "Python 3",
   "language": "python",
   "name": "python3"
  },
  "language_info": {
   "codemirror_mode": {
    "name": "ipython",
    "version": 3
   },
   "file_extension": ".py",
   "mimetype": "text/x-python",
   "name": "python",
   "nbconvert_exporter": "python",
   "pygments_lexer": "ipython3",
   "version": "3.8.5"
  }
 },
 "nbformat": 4,
 "nbformat_minor": 5
}
